{
  "nbformat": 4,
  "nbformat_minor": 0,
  "metadata": {
    "colab": {
      "name": "Copy of newAttention.ipynb",
      "provenance": [],
      "collapsed_sections": []
    },
    "kernelspec": {
      "name": "python3",
      "display_name": "Python 3"
    },
    "language_info": {
      "name": "python"
    }
  },
  "cells": [
    {
      "cell_type": "markdown",
      "metadata": {
        "id": "HJxZQcnncCfU"
      },
      "source": [
        "**Attention layer with LSTM**"
      ]
    },
    {
      "cell_type": "code",
      "metadata": {
        "id": "RPRs_RfwGNtz"
      },
      "source": [
        "#import the necesssary libraries\n",
        "import numpy as np\n",
        "import matplotlib.pyplot as plt\n",
        "plt.style.use('fivethirtyeight')\n",
        "import pandas as pd\n",
        "from sklearn.preprocessing import MinMaxScaler\n",
        "from keras.models import Sequential\n",
        "from keras.layers import Dense, LSTM, GRU, Dropout, Bidirectional\n",
        "from keras.optimizers import SGD\n",
        "import math\n",
        "from sklearn.metrics import mean_squared_error"
      ],
      "execution_count": null,
      "outputs": []
    },
    {
      "cell_type": "code",
      "metadata": {
        "id": "Jt6iXk1HJvn_"
      },
      "source": [
        "# Some functions to help out with\n",
        "def plot_predictions(test,predicted):\n",
        "    plt.plot(test, color='red',label = 'Real IBM Stock Price')\n",
        "    plt.plot(predicted, color='blue',label = 'Predicted IBM Stock Price')\n",
        "    plt.title('IBM Stock Price Prediction')\n",
        "    plt.xlabel('Time')\n",
        "    plt.ylabel('IBM Stock Price')\n",
        "    plt.legend()\n",
        "    plt.show()\n",
        "\n",
        "def return_rmse(test,predicted):\n",
        "    rmse = math.sqrt(mean_squared_error(test, predicted))\n",
        "    print(\"The root mean squared error is {}.\".format(rmse))"
      ],
      "execution_count": null,
      "outputs": []
    },
    {
      "cell_type": "code",
      "metadata": {
        "colab": {
          "base_uri": "https://localhost:8080/"
        },
        "id": "bhakoi8rJ2pQ",
        "outputId": "2e15ba18-2d04-425f-aed5-886f0da3af15"
      },
      "source": [
        "from google.colab import drive\n",
        "drive.mount(\"/content/gdrive\")"
      ],
      "execution_count": null,
      "outputs": [
        {
          "output_type": "stream",
          "text": [
            "Mounted at /content/gdrive\n"
          ],
          "name": "stdout"
        }
      ]
    },
    {
      "cell_type": "code",
      "metadata": {
        "colab": {
          "base_uri": "https://localhost:8080/",
          "height": 198
        },
        "id": "-uXSZOplJ-Jl",
        "outputId": "d4e0ce4e-aa48-46ce-d931-c2e15a3cf957"
      },
      "source": [
        "import pandas as pd\n",
        "dataset = pd.read_csv('/content/gdrive/My Drive/IBM.csv')#, index_col='Date', parse_dates=['Date']) \n",
        "dataset.head()\n",
        "\n",
        "# USE THE FOLLOWING COMMAND TO GET THE 'DATA' INSTEAD OF 'NUMBERS' ON X-AXIS ON PLOT.\n",
        "\n",
        "#import pandas as pd\n",
        "#dataset = pd.read_csv('/content/gdrive/My Drive/IBM.csv'), index_col='Date', parse_dates=['Date']) \n",
        "#dataset.head()"
      ],
      "execution_count": null,
      "outputs": [
        {
          "output_type": "execute_result",
          "data": {
            "text/html": [
              "<div>\n",
              "<style scoped>\n",
              "    .dataframe tbody tr th:only-of-type {\n",
              "        vertical-align: middle;\n",
              "    }\n",
              "\n",
              "    .dataframe tbody tr th {\n",
              "        vertical-align: top;\n",
              "    }\n",
              "\n",
              "    .dataframe thead th {\n",
              "        text-align: right;\n",
              "    }\n",
              "</style>\n",
              "<table border=\"1\" class=\"dataframe\">\n",
              "  <thead>\n",
              "    <tr style=\"text-align: right;\">\n",
              "      <th></th>\n",
              "      <th>Date</th>\n",
              "      <th>Open</th>\n",
              "      <th>High</th>\n",
              "      <th>Low</th>\n",
              "      <th>Close</th>\n",
              "      <th>Volume</th>\n",
              "      <th>Name</th>\n",
              "    </tr>\n",
              "  </thead>\n",
              "  <tbody>\n",
              "    <tr>\n",
              "      <th>0</th>\n",
              "      <td>2006-01-03</td>\n",
              "      <td>82.45</td>\n",
              "      <td>82.55</td>\n",
              "      <td>80.81</td>\n",
              "      <td>82.06</td>\n",
              "      <td>11715200</td>\n",
              "      <td>IBM</td>\n",
              "    </tr>\n",
              "    <tr>\n",
              "      <th>1</th>\n",
              "      <td>2006-01-04</td>\n",
              "      <td>82.20</td>\n",
              "      <td>82.50</td>\n",
              "      <td>81.33</td>\n",
              "      <td>81.95</td>\n",
              "      <td>9840600</td>\n",
              "      <td>IBM</td>\n",
              "    </tr>\n",
              "    <tr>\n",
              "      <th>2</th>\n",
              "      <td>2006-01-05</td>\n",
              "      <td>81.40</td>\n",
              "      <td>82.90</td>\n",
              "      <td>81.00</td>\n",
              "      <td>82.50</td>\n",
              "      <td>7213500</td>\n",
              "      <td>IBM</td>\n",
              "    </tr>\n",
              "    <tr>\n",
              "      <th>3</th>\n",
              "      <td>2006-01-06</td>\n",
              "      <td>83.95</td>\n",
              "      <td>85.03</td>\n",
              "      <td>83.41</td>\n",
              "      <td>84.95</td>\n",
              "      <td>8197400</td>\n",
              "      <td>IBM</td>\n",
              "    </tr>\n",
              "    <tr>\n",
              "      <th>4</th>\n",
              "      <td>2006-01-09</td>\n",
              "      <td>84.10</td>\n",
              "      <td>84.25</td>\n",
              "      <td>83.38</td>\n",
              "      <td>83.73</td>\n",
              "      <td>6858200</td>\n",
              "      <td>IBM</td>\n",
              "    </tr>\n",
              "  </tbody>\n",
              "</table>\n",
              "</div>"
            ],
            "text/plain": [
              "         Date   Open   High    Low  Close    Volume Name\n",
              "0  2006-01-03  82.45  82.55  80.81  82.06  11715200  IBM\n",
              "1  2006-01-04  82.20  82.50  81.33  81.95   9840600  IBM\n",
              "2  2006-01-05  81.40  82.90  81.00  82.50   7213500  IBM\n",
              "3  2006-01-06  83.95  85.03  83.41  84.95   8197400  IBM\n",
              "4  2006-01-09  84.10  84.25  83.38  83.73   6858200  IBM"
            ]
          },
          "metadata": {
            "tags": []
          },
          "execution_count": 4
        }
      ]
    },
    {
      "cell_type": "code",
      "metadata": {
        "id": "BtujEd63J-K-",
        "colab": {
          "base_uri": "https://localhost:8080/"
        },
        "outputId": "f17b03d7-2a22-4745-e015-9c879b96c052"
      },
      "source": [
        "#Getting \"High\" attribute\n",
        "df2 = dataset['High']\n",
        "df2.head"
      ],
      "execution_count": null,
      "outputs": [
        {
          "output_type": "execute_result",
          "data": {
            "text/plain": [
              "<bound method NDFrame.head of 0        82.55\n",
              "1        82.50\n",
              "2        82.90\n",
              "3        85.03\n",
              "4        84.25\n",
              "         ...  \n",
              "3015    153.00\n",
              "3016    153.86\n",
              "3017    153.18\n",
              "3018    154.12\n",
              "3019    154.72\n",
              "Name: High, Length: 3020, dtype: float64>"
            ]
          },
          "metadata": {
            "tags": []
          },
          "execution_count": 5
        }
      ]
    },
    {
      "cell_type": "code",
      "metadata": {
        "colab": {
          "base_uri": "https://localhost:8080/"
        },
        "id": "ZHxJTnTFTA9J",
        "outputId": "5b9c8baa-1036-4bde-d024-e817432c43a9"
      },
      "source": [
        "#In the above, no index is present. The data is presented as Date, values\n",
        "#We need the index number for the mc learning model \n",
        "#Therefore, use 'reset_index' method to get the index.\n",
        "\n",
        "#get attribute 'Close'\n",
        "df1 = dataset.reset_index()['High']\n",
        "df1"
      ],
      "execution_count": null,
      "outputs": [
        {
          "output_type": "execute_result",
          "data": {
            "text/plain": [
              "0        82.55\n",
              "1        82.50\n",
              "2        82.90\n",
              "3        85.03\n",
              "4        84.25\n",
              "         ...  \n",
              "3015    153.00\n",
              "3016    153.86\n",
              "3017    153.18\n",
              "3018    154.12\n",
              "3019    154.72\n",
              "Name: High, Length: 3020, dtype: float64"
            ]
          },
          "metadata": {
            "tags": []
          },
          "execution_count": 6
        }
      ]
    },
    {
      "cell_type": "code",
      "metadata": {
        "colab": {
          "base_uri": "https://localhost:8080/",
          "height": 262
        },
        "id": "IILD-UZWUfPS",
        "outputId": "a85fe0c1-63b0-4c2f-9037-3b6ce307fedc"
      },
      "source": [
        "#PLot data\n",
        "#..........Method 2\n",
        "dataset['High'].plot(figsize=(16,4) )\n",
        "plt.show()"
      ],
      "execution_count": null,
      "outputs": [
        {
          "output_type": "display_data",
          "data": {
            "image/png": "[encoded data removed]",
            "text/plain": [
              "<Figure size 1152x288 with 1 Axes>"
            ]
          },
          "metadata": {
            "tags": [],
            "needs_background": "light"
          }
        }
      ]
    },
    {
      "cell_type": "code",
      "metadata": {
        "colab": {
          "base_uri": "https://localhost:8080/"
        },
        "id": "ISamlRlyW9nD",
        "outputId": "995a4d56-a9b1-4842-d0b4-5d69a04870ab"
      },
      "source": [
        "# Reshape the dataset \n",
        "df1 = np.array(df1).reshape(-1 , 1)\n",
        "df1[:5]"
      ],
      "execution_count": null,
      "outputs": [
        {
          "output_type": "execute_result",
          "data": {
            "text/plain": [
              "array([[82.55],\n",
              "       [82.5 ],\n",
              "       [82.9 ],\n",
              "       [85.03],\n",
              "       [84.25]])"
            ]
          },
          "metadata": {
            "tags": []
          },
          "execution_count": 9
        }
      ]
    },
    {
      "cell_type": "code",
      "metadata": {
        "id": "9alO8WaGZBZa"
      },
      "source": [
        "# split the data into train and test data\n",
        "trainSize = int(len(df1)*0.67)\n",
        "testSize = len(df1) - trainSize\n",
        "trainData , testData = df1[0:trainSize , : ] , df1[trainSize : len(df1),:1]\n",
        "\n",
        "#df1[a :b , c: d] format is present because dataset has rows and column."
      ],
      "execution_count": null,
      "outputs": []
    },
    {
      "cell_type": "code",
      "metadata": {
        "id": "ucgwR-wLZO_U"
      },
      "source": [
        "# Scaling the data\n",
        "# Line 1 : Def Scaling to range (0,1)\n",
        "# Line 2 : Scaling\n",
        "scaler = MinMaxScaler(feature_range=(0,1))\n",
        "trainData = scaler.fit_transform(trainData)"
      ],
      "execution_count": null,
      "outputs": []
    },
    {
      "cell_type": "code",
      "metadata": {
        "id": "eVos9jG7dMwD",
        "colab": {
          "base_uri": "https://localhost:8080/"
        },
        "outputId": "8739f418-139b-4adf-942b-3ba8acc1e24c"
      },
      "source": [
        "trainData.shape"
      ],
      "execution_count": null,
      "outputs": [
        {
          "output_type": "execute_result",
          "data": {
            "text/plain": [
              "(2023, 1)"
            ]
          },
          "metadata": {
            "tags": []
          },
          "execution_count": 12
        }
      ]
    },
    {
      "cell_type": "code",
      "metadata": {
        "id": "y1I50HNTZ5UZ"
      },
      "source": [
        "# Now create the xTrain and yTrain from the trainData(i.e training data)\n",
        "\n",
        "xTrain, yTrain = [] , []\n",
        "\n",
        "for i in range(60, 2023):\n",
        "    xTrain.append(trainData[i-60 : i , 0])\n",
        "    yTrain.append(trainData[i,0])\n",
        "\n",
        "xTrain, yTrain = np.array(xTrain) , np.array(yTrain)"
      ],
      "execution_count": null,
      "outputs": []
    },
    {
      "cell_type": "code",
      "metadata": {
        "colab": {
          "base_uri": "https://localhost:8080/"
        },
        "id": "HP9b-b01c5sX",
        "outputId": "bc5e51be-718c-4dbd-cd0d-19ff1f0c08c0"
      },
      "source": [
        "xTrain.shape"
      ],
      "execution_count": null,
      "outputs": [
        {
          "output_type": "execute_result",
          "data": {
            "text/plain": [
              "(1963, 60)"
            ]
          },
          "metadata": {
            "tags": []
          },
          "execution_count": 14
        }
      ]
    },
    {
      "cell_type": "code",
      "metadata": {
        "id": "FE8Xevk2dVQS"
      },
      "source": [
        "##Reshaping xTrain for efficient modelling\n",
        "#xTrain = xTrain.reshape(-1 , 1)\n",
        "\n",
        "#Reshaping xTrain for efficient modelling\n",
        "xTrain = np.reshape(xTrain , (xTrain.shape[0] , xTrain.shape[1] , 1))"
      ],
      "execution_count": null,
      "outputs": []
    },
    {
      "cell_type": "code",
      "metadata": {
        "colab": {
          "base_uri": "https://localhost:8080/"
        },
        "id": "sVrZtj-8dr8s",
        "outputId": "29fe4f69-2857-4785-8293-a6733453c4ce"
      },
      "source": [
        "xTrain.shape"
      ],
      "execution_count": null,
      "outputs": [
        {
          "output_type": "execute_result",
          "data": {
            "text/plain": [
              "(1963, 60, 1)"
            ]
          },
          "metadata": {
            "tags": []
          },
          "execution_count": 16
        }
      ]
    },
    {
      "cell_type": "markdown",
      "metadata": {
        "id": "ke29fj7-d7_9"
      },
      "source": [
        "### **Attention**"
      ]
    },
    {
      "cell_type": "code",
      "metadata": {
        "colab": {
          "base_uri": "https://localhost:8080/"
        },
        "id": "sywlfAt3O4lg",
        "outputId": "538b7fd6-517d-47ce-a951-668b85e5374c"
      },
      "source": [
        "pip install attention"
      ],
      "execution_count": null,
      "outputs": [
        {
          "output_type": "stream",
          "text": [
            "Collecting attention\n",
            "  Downloading https://files.pythonhosted.org/packages/cb/3f/d8b19195a2f5827dcbf0ee6d7e6fe4352f42dcc60693bdb1e431440c8b59/attention-4.0-py2.py3-none-any.whl\n",
            "Requirement already satisfied: tensorflow>=2.1 in /usr/local/lib/python3.7/dist-packages (from attention) (2.5.0)\n",
            "Requirement already satisfied: numpy>=1.18.1 in /usr/local/lib/python3.7/dist-packages (from attention) (1.19.5)\n",
            "Requirement already satisfied: wheel~=0.35 in /usr/local/lib/python3.7/dist-packages (from tensorflow>=2.1->attention) (0.36.2)\n",
            "Requirement already satisfied: gast==0.4.0 in /usr/local/lib/python3.7/dist-packages (from tensorflow>=2.1->attention) (0.4.0)\n",
            "Requirement already satisfied: keras-preprocessing~=1.1.2 in /usr/local/lib/python3.7/dist-packages (from tensorflow>=2.1->attention) (1.1.2)\n",
            "Requirement already satisfied: tensorboard~=2.5 in /usr/local/lib/python3.7/dist-packages (from tensorflow>=2.1->attention) (2.5.0)\n",
            "Requirement already satisfied: typing-extensions~=3.7.4 in /usr/local/lib/python3.7/dist-packages (from tensorflow>=2.1->attention) (3.7.4.3)\n",
            "Requirement already satisfied: flatbuffers~=1.12.0 in /usr/local/lib/python3.7/dist-packages (from tensorflow>=2.1->attention) (1.12)\n",
            "Requirement already satisfied: absl-py~=0.10 in /usr/local/lib/python3.7/dist-packages (from tensorflow>=2.1->attention) (0.12.0)\n",
            "Requirement already satisfied: astunparse~=1.6.3 in /usr/local/lib/python3.7/dist-packages (from tensorflow>=2.1->attention) (1.6.3)\n",
            "Requirement already satisfied: tensorflow-estimator<2.6.0,>=2.5.0rc0 in /usr/local/lib/python3.7/dist-packages (from tensorflow>=2.1->attention) (2.5.0)\n",
            "Requirement already satisfied: google-pasta~=0.2 in /usr/local/lib/python3.7/dist-packages (from tensorflow>=2.1->attention) (0.2.0)\n",
            "Requirement already satisfied: opt-einsum~=3.3.0 in /usr/local/lib/python3.7/dist-packages (from tensorflow>=2.1->attention) (3.3.0)\n",
            "Requirement already satisfied: six~=1.15.0 in /usr/local/lib/python3.7/dist-packages (from tensorflow>=2.1->attention) (1.15.0)\n",
            "Requirement already satisfied: grpcio~=1.34.0 in /usr/local/lib/python3.7/dist-packages (from tensorflow>=2.1->attention) (1.34.1)\n",
            "Requirement already satisfied: termcolor~=1.1.0 in /usr/local/lib/python3.7/dist-packages (from tensorflow>=2.1->attention) (1.1.0)\n",
            "Requirement already satisfied: h5py~=3.1.0 in /usr/local/lib/python3.7/dist-packages (from tensorflow>=2.1->attention) (3.1.0)\n",
            "Requirement already satisfied: keras-nightly~=2.5.0.dev in /usr/local/lib/python3.7/dist-packages (from tensorflow>=2.1->attention) (2.5.0.dev2021032900)\n",
            "Requirement already satisfied: wrapt~=1.12.1 in /usr/local/lib/python3.7/dist-packages (from tensorflow>=2.1->attention) (1.12.1)\n",
            "Requirement already satisfied: protobuf>=3.9.2 in /usr/local/lib/python3.7/dist-packages (from tensorflow>=2.1->attention) (3.12.4)\n",
            "Requirement already satisfied: tensorboard-data-server<0.7.0,>=0.6.0 in /usr/local/lib/python3.7/dist-packages (from tensorboard~=2.5->tensorflow>=2.1->attention) (0.6.1)\n",
            "Requirement already satisfied: setuptools>=41.0.0 in /usr/local/lib/python3.7/dist-packages (from tensorboard~=2.5->tensorflow>=2.1->attention) (57.0.0)\n",
            "Requirement already satisfied: markdown>=2.6.8 in /usr/local/lib/python3.7/dist-packages (from tensorboard~=2.5->tensorflow>=2.1->attention) (3.3.4)\n",
            "Requirement already satisfied: tensorboard-plugin-wit>=1.6.0 in /usr/local/lib/python3.7/dist-packages (from tensorboard~=2.5->tensorflow>=2.1->attention) (1.8.0)\n",
            "Requirement already satisfied: werkzeug>=0.11.15 in /usr/local/lib/python3.7/dist-packages (from tensorboard~=2.5->tensorflow>=2.1->attention) (1.0.1)\n",
            "Requirement already satisfied: requests<3,>=2.21.0 in /usr/local/lib/python3.7/dist-packages (from tensorboard~=2.5->tensorflow>=2.1->attention) (2.23.0)\n",
            "Requirement already satisfied: google-auth-oauthlib<0.5,>=0.4.1 in /usr/local/lib/python3.7/dist-packages (from tensorboard~=2.5->tensorflow>=2.1->attention) (0.4.4)\n",
            "Requirement already satisfied: google-auth<2,>=1.6.3 in /usr/local/lib/python3.7/dist-packages (from tensorboard~=2.5->tensorflow>=2.1->attention) (1.30.0)\n",
            "Requirement already satisfied: cached-property; python_version < \"3.8\" in /usr/local/lib/python3.7/dist-packages (from h5py~=3.1.0->tensorflow>=2.1->attention) (1.5.2)\n",
            "Requirement already satisfied: importlib-metadata; python_version < \"3.8\" in /usr/local/lib/python3.7/dist-packages (from markdown>=2.6.8->tensorboard~=2.5->tensorflow>=2.1->attention) (4.0.1)\n",
            "Requirement already satisfied: chardet<4,>=3.0.2 in /usr/local/lib/python3.7/dist-packages (from requests<3,>=2.21.0->tensorboard~=2.5->tensorflow>=2.1->attention) (3.0.4)\n",
            "Requirement already satisfied: urllib3!=1.25.0,!=1.25.1,<1.26,>=1.21.1 in /usr/local/lib/python3.7/dist-packages (from requests<3,>=2.21.0->tensorboard~=2.5->tensorflow>=2.1->attention) (1.24.3)\n",
            "Requirement already satisfied: idna<3,>=2.5 in /usr/local/lib/python3.7/dist-packages (from requests<3,>=2.21.0->tensorboard~=2.5->tensorflow>=2.1->attention) (2.10)\n",
            "Requirement already satisfied: certifi>=2017.4.17 in /usr/local/lib/python3.7/dist-packages (from requests<3,>=2.21.0->tensorboard~=2.5->tensorflow>=2.1->attention) (2020.12.5)\n",
            "Requirement already satisfied: requests-oauthlib>=0.7.0 in /usr/local/lib/python3.7/dist-packages (from google-auth-oauthlib<0.5,>=0.4.1->tensorboard~=2.5->tensorflow>=2.1->attention) (1.3.0)\n",
            "Requirement already satisfied: rsa<5,>=3.1.4; python_version >= \"3.6\" in /usr/local/lib/python3.7/dist-packages (from google-auth<2,>=1.6.3->tensorboard~=2.5->tensorflow>=2.1->attention) (4.7.2)\n",
            "Requirement already satisfied: pyasn1-modules>=0.2.1 in /usr/local/lib/python3.7/dist-packages (from google-auth<2,>=1.6.3->tensorboard~=2.5->tensorflow>=2.1->attention) (0.2.8)\n",
            "Requirement already satisfied: cachetools<5.0,>=2.0.0 in /usr/local/lib/python3.7/dist-packages (from google-auth<2,>=1.6.3->tensorboard~=2.5->tensorflow>=2.1->attention) (4.2.2)\n",
            "Requirement already satisfied: zipp>=0.5 in /usr/local/lib/python3.7/dist-packages (from importlib-metadata; python_version < \"3.8\"->markdown>=2.6.8->tensorboard~=2.5->tensorflow>=2.1->attention) (3.4.1)\n",
            "Requirement already satisfied: oauthlib>=3.0.0 in /usr/local/lib/python3.7/dist-packages (from requests-oauthlib>=0.7.0->google-auth-oauthlib<0.5,>=0.4.1->tensorboard~=2.5->tensorflow>=2.1->attention) (3.1.0)\n",
            "Requirement already satisfied: pyasn1>=0.1.3 in /usr/local/lib/python3.7/dist-packages (from rsa<5,>=3.1.4; python_version >= \"3.6\"->google-auth<2,>=1.6.3->tensorboard~=2.5->tensorflow>=2.1->attention) (0.4.8)\n",
            "Installing collected packages: attention\n",
            "Successfully installed attention-4.0\n"
          ],
          "name": "stdout"
        }
      ]
    },
    {
      "cell_type": "code",
      "metadata": {
        "id": "kCauI9ptO6qS"
      },
      "source": [
        "import numpy as np\n",
        "from tensorflow.keras import Input\n",
        "from tensorflow.keras.layers import Dense, LSTM\n",
        "from tensorflow.keras.models import load_model, Model\n",
        "from attention import Attention"
      ],
      "execution_count": null,
      "outputs": []
    },
    {
      "cell_type": "code",
      "metadata": {
        "colab": {
          "base_uri": "https://localhost:8080/"
        },
        "id": "T2S5J45kOW5g",
        "outputId": "7d8705a7-2299-4eeb-abc6-de7d55ab3554"
      },
      "source": [
        "# Attention layer\n",
        "time_steps, input_dim, output_dim =  60, 1, 1\n",
        "\n",
        "# Define/compile the model.\n",
        "model_input = Input(shape=(time_steps, input_dim))\n",
        "x = LSTM(64, return_sequences=True)(model_input)\n",
        "x = Attention(32)(x)\n",
        "x = Dense(1)(x)\n",
        "model = Model(model_input, x)\n",
        "model.compile(loss='mean_squared_error', optimizer='rmsprop')\n",
        "\n",
        "\n",
        "# train.\n",
        "model.fit(xTrain, yTrain, epochs=50, batch_size = 32)"
      ],
      "execution_count": null,
      "outputs": [
        {
          "output_type": "stream",
          "text": [
            "Epoch 1/50\n",
            "62/62 [==============================] - 5s 32ms/step - loss: 0.0143\n",
            "Epoch 2/50\n",
            "62/62 [==============================] - 2s 32ms/step - loss: 0.0028\n",
            "Epoch 3/50\n",
            "62/62 [==============================] - 2s 32ms/step - loss: 0.0023\n",
            "Epoch 4/50\n",
            "62/62 [==============================] - 2s 31ms/step - loss: 0.0016\n",
            "Epoch 5/50\n",
            "62/62 [==============================] - 2s 32ms/step - loss: 0.0016\n",
            "Epoch 6/50\n",
            "62/62 [==============================] - 2s 31ms/step - loss: 0.0012\n",
            "Epoch 7/50\n",
            "62/62 [==============================] - 2s 31ms/step - loss: 9.1588e-04\n",
            "Epoch 8/50\n",
            "62/62 [==============================] - 2s 31ms/step - loss: 9.6059e-04\n",
            "Epoch 9/50\n",
            "62/62 [==============================] - 2s 32ms/step - loss: 9.9353e-04\n",
            "Epoch 10/50\n",
            "62/62 [==============================] - 2s 32ms/step - loss: 9.0593e-04\n",
            "Epoch 11/50\n",
            "62/62 [==============================] - 2s 31ms/step - loss: 7.6492e-04\n",
            "Epoch 12/50\n",
            "62/62 [==============================] - 2s 32ms/step - loss: 8.1800e-04\n",
            "Epoch 13/50\n",
            "62/62 [==============================] - 2s 31ms/step - loss: 7.5699e-04\n",
            "Epoch 14/50\n",
            "62/62 [==============================] - 2s 32ms/step - loss: 7.3869e-04\n",
            "Epoch 15/50\n",
            "62/62 [==============================] - 2s 31ms/step - loss: 6.5030e-04\n",
            "Epoch 16/50\n",
            "62/62 [==============================] - 2s 31ms/step - loss: 6.4607e-04\n",
            "Epoch 17/50\n",
            "62/62 [==============================] - 2s 31ms/step - loss: 6.1248e-04\n",
            "Epoch 18/50\n",
            "62/62 [==============================] - 2s 31ms/step - loss: 5.9851e-04\n",
            "Epoch 19/50\n",
            "62/62 [==============================] - 2s 32ms/step - loss: 5.2841e-04\n",
            "Epoch 20/50\n",
            "62/62 [==============================] - 2s 32ms/step - loss: 5.7993e-04\n",
            "Epoch 21/50\n",
            "62/62 [==============================] - 2s 31ms/step - loss: 5.3831e-04\n",
            "Epoch 22/50\n",
            "62/62 [==============================] - 2s 32ms/step - loss: 5.3678e-04\n",
            "Epoch 23/50\n",
            "62/62 [==============================] - 2s 31ms/step - loss: 5.1362e-04\n",
            "Epoch 24/50\n",
            "62/62 [==============================] - 2s 32ms/step - loss: 4.8703e-04\n",
            "Epoch 25/50\n",
            "62/62 [==============================] - 2s 32ms/step - loss: 5.1720e-04\n",
            "Epoch 26/50\n",
            "62/62 [==============================] - 2s 31ms/step - loss: 4.4928e-04\n",
            "Epoch 27/50\n",
            "62/62 [==============================] - 2s 32ms/step - loss: 4.7648e-04\n",
            "Epoch 28/50\n",
            "62/62 [==============================] - 2s 31ms/step - loss: 4.4139e-04\n",
            "Epoch 29/50\n",
            "62/62 [==============================] - 2s 32ms/step - loss: 4.5199e-04\n",
            "Epoch 30/50\n",
            "62/62 [==============================] - 2s 32ms/step - loss: 4.1251e-04\n",
            "Epoch 31/50\n",
            "62/62 [==============================] - 2s 31ms/step - loss: 4.5658e-04\n",
            "Epoch 32/50\n",
            "62/62 [==============================] - 2s 33ms/step - loss: 4.3163e-04\n",
            "Epoch 33/50\n",
            "62/62 [==============================] - 2s 34ms/step - loss: 4.2785e-04\n",
            "Epoch 34/50\n",
            "62/62 [==============================] - 2s 33ms/step - loss: 4.3392e-04\n",
            "Epoch 35/50\n",
            "62/62 [==============================] - 2s 32ms/step - loss: 3.7358e-04\n",
            "Epoch 36/50\n",
            "62/62 [==============================] - 2s 32ms/step - loss: 4.0982e-04\n",
            "Epoch 37/50\n",
            "62/62 [==============================] - 2s 32ms/step - loss: 3.9141e-04\n",
            "Epoch 38/50\n",
            "62/62 [==============================] - 2s 33ms/step - loss: 3.9931e-04\n",
            "Epoch 39/50\n",
            "62/62 [==============================] - 2s 33ms/step - loss: 4.2723e-04\n",
            "Epoch 40/50\n",
            "62/62 [==============================] - 2s 33ms/step - loss: 3.6545e-04\n",
            "Epoch 41/50\n",
            "62/62 [==============================] - 2s 34ms/step - loss: 3.8348e-04\n",
            "Epoch 42/50\n",
            "62/62 [==============================] - 2s 34ms/step - loss: 3.6295e-04\n",
            "Epoch 43/50\n",
            "62/62 [==============================] - 2s 33ms/step - loss: 3.5282e-04\n",
            "Epoch 44/50\n",
            "62/62 [==============================] - 2s 33ms/step - loss: 3.6144e-04\n",
            "Epoch 45/50\n",
            "62/62 [==============================] - 2s 33ms/step - loss: 3.3644e-04\n",
            "Epoch 46/50\n",
            "62/62 [==============================] - 2s 34ms/step - loss: 3.8084e-04\n",
            "Epoch 47/50\n",
            "62/62 [==============================] - 2s 34ms/step - loss: 3.7497e-04\n",
            "Epoch 48/50\n",
            "62/62 [==============================] - 2s 34ms/step - loss: 3.5637e-04\n",
            "Epoch 49/50\n",
            "62/62 [==============================] - 2s 33ms/step - loss: 3.1401e-04\n",
            "Epoch 50/50\n",
            "62/62 [==============================] - 2s 34ms/step - loss: 3.6173e-04\n"
          ],
          "name": "stdout"
        },
        {
          "output_type": "execute_result",
          "data": {
            "text/plain": [
              "<tensorflow.python.keras.callbacks.History at 0x7f169240e0d0>"
            ]
          },
          "metadata": {
            "tags": []
          },
          "execution_count": 21
        }
      ]
    },
    {
      "cell_type": "code",
      "metadata": {
        "colab": {
          "base_uri": "https://localhost:8080/"
        },
        "id": "Vi5OFi6VqBTC",
        "outputId": "fc1436a9-3755-4268-ca04-821c6cf4c7c3"
      },
      "source": [
        "#Get test set ready as similar to traing set\n",
        "#create a whole dataset\n",
        "dataset_total = (dataset[\"High\"])\n",
        "dataset_total.shape"
      ],
      "execution_count": null,
      "outputs": [
        {
          "output_type": "execute_result",
          "data": {
            "text/plain": [
              "(3020,)"
            ]
          },
          "metadata": {
            "tags": []
          },
          "execution_count": 29
        }
      ]
    },
    {
      "cell_type": "code",
      "metadata": {
        "id": "6TwO4qSNqCf4",
        "colab": {
          "base_uri": "https://localhost:8080/"
        },
        "outputId": "be1a249f-0e3b-4b3d-c92e-d46def981964"
      },
      "source": [
        "# Now to get the test set ready in a similar way as the training set.\n",
        "# The following has been done so forst 60 entires of test set have 60 previous values which is impossible to get unless we take the whole \n",
        "# 'High' attribute data for processing\n",
        "dataset_total = (dataset[\"High\"])\n",
        "inputs = dataset_total[len(dataset_total)-len(testData) - 60:].values\n",
        "inputs = inputs.reshape(-1,1)\n",
        "inputs = scaler.fit_transform(inputs)\n",
        "inputs[:5]\n"
      ],
      "execution_count": null,
      "outputs": [
        {
          "output_type": "execute_result",
          "data": {
            "text/plain": [
              "array([[0.69252043],\n",
              "       [0.70282841],\n",
              "       [0.70810811],\n",
              "       [0.73199246],\n",
              "       [0.74720302]])"
            ]
          },
          "metadata": {
            "tags": []
          },
          "execution_count": 30
        }
      ]
    },
    {
      "cell_type": "code",
      "metadata": {
        "colab": {
          "base_uri": "https://localhost:8080/"
        },
        "id": "w_0ScHo0sVyV",
        "outputId": "16021758-fb8a-4c3c-97f2-0d57e1f58cf0"
      },
      "source": [
        "inputs.shape"
      ],
      "execution_count": null,
      "outputs": [
        {
          "output_type": "execute_result",
          "data": {
            "text/plain": [
              "(1057, 1)"
            ]
          },
          "metadata": {
            "tags": []
          },
          "execution_count": 31
        }
      ]
    },
    {
      "cell_type": "code",
      "metadata": {
        "id": "GkDZJXbrqIQz"
      },
      "source": [
        "# Create xTest and yTest from testData(i.e. testing data)\n",
        "# 60 timestep and 1 output\n",
        "xTest = []\n",
        "\n",
        "for i in range(60, 1057):\n",
        "    xTest.append(inputs[i-60 : i , 0])\n",
        "  \n",
        "\n",
        "xTest = np.array(xTest) \n",
        "xTest = np.reshape(xTest, (xTest.shape[0],xTest.shape[1],1))\n"
      ],
      "execution_count": null,
      "outputs": []
    },
    {
      "cell_type": "code",
      "metadata": {
        "id": "Q1Gv-Tm2TizJ"
      },
      "source": [
        "# Predict model\n",
        "predicted_stock_price = model.predict(xTest)\n",
        "predicted_stock_price2 = scaler.inverse_transform(predicted_stock_price)"
      ],
      "execution_count": null,
      "outputs": []
    },
    {
      "cell_type": "code",
      "metadata": {
        "colab": {
          "base_uri": "https://localhost:8080/"
        },
        "id": "DCcfUpJd0155",
        "outputId": "879ecf5a-11cd-4f73-fdd1-e78a38affe57"
      },
      "source": [
        "inputs.shape"
      ],
      "execution_count": null,
      "outputs": [
        {
          "output_type": "execute_result",
          "data": {
            "text/plain": [
              "(1057, 1)"
            ]
          },
          "metadata": {
            "tags": []
          },
          "execution_count": 37
        }
      ]
    },
    {
      "cell_type": "code",
      "metadata": {
        "colab": {
          "base_uri": "https://localhost:8080/",
          "height": 262
        },
        "id": "ikp3jkQmreAH",
        "outputId": "f959274d-319d-4725-c6ca-53e7dc477165"
      },
      "source": [
        "plt.plot(testData, color='red',label='Real IBM Stock Price')\n",
        "plt.plot(predicted_stock_price2, color='blue',label='Predicted IBM Stock Price')\n",
        "plt.xlabel = 'Time'\n",
        "plt.ylabel = 'IBM Stock price'\n",
        "plt.legend()\n",
        "plt.show()"
      ],
      "execution_count": null,
      "outputs": [
        {
          "output_type": "display_data",
          "data": {
            "image/png": "[encoded data removed]",
            "text/plain": [
              "<Figure size 432x288 with 1 Axes>"
            ]
          },
          "metadata": {
            "tags": [],
            "needs_background": "light"
          }
        }
      ]
    },
    {
      "cell_type": "code",
      "metadata": {
        "colab": {
          "base_uri": "https://localhost:8080/"
        },
        "id": "5yjlZP6rw9pz",
        "outputId": "d9e54f6e-3950-46df-ebf0-aebb7fd1d6cb"
      },
      "source": [
        "rmse = math.sqrt(mean_squared_error(testData, predicted_stock_price2))\n",
        "print(\"The root mean squared error is {}.\".format(rmse))"
      ],
      "execution_count": null,
      "outputs": [
        {
          "output_type": "stream",
          "text": [
            "The root mean squared error is 1.711204532807572.\n"
          ],
          "name": "stdout"
        }
      ]
    },
    {
      "cell_type": "code",
      "metadata": {
        "id": "oLeRZXgUTnwl"
      },
      "source": [
        ""
      ],
      "execution_count": null,
      "outputs": []
    }
  ]
}