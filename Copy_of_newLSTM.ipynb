{
  "nbformat": 4,
  "nbformat_minor": 0,
  "metadata": {
    "colab": {
      "name": "Stock prediction using LSTM.ipynb",
      "provenance": [],
      "collapsed_sections": []
    },
    "kernelspec": {
      "name": "python3",
      "display_name": "Python 3"
    },
    "language_info": {
      "name": "python"
    }
  },
  "cells": [
    {
      "cell_type": "markdown",
      "metadata": {
        "id": "HJxZQcnncCfU"
      },
      "source": [
        "**Long Short Term Memory(LSTM)**"
      ]
    },
    {
      "cell_type": "code",
      "metadata": {
        "id": "RPRs_RfwGNtz"
      },
      "source": [
        "#import the necesssary libraries\n",
        "import numpy as np\n",
        "import matplotlib.pyplot as plt\n",
        "plt.style.use('fivethirtyeight')\n",
        "import pandas as pd\n",
        "from sklearn.preprocessing import MinMaxScaler\n",
        "from keras.models import Sequential\n",
        "from keras.layers import Dense, LSTM, GRU, Dropout, Bidirectional\n",
        "from keras.optimizers import SGD\n",
        "import math\n",
        "from sklearn.metrics import mean_squared_error"
      ],
      "execution_count": null,
      "outputs": []
    },
    {
      "cell_type": "code",
      "metadata": {
        "id": "Jt6iXk1HJvn_"
      },
      "source": [
        "# Some functions to help out with\n",
        "def plot_predictions(test,predicted):\n",
        "    plt.plot(test, color='red',label = 'Real IBM Stock Price')\n",
        "    plt.plot(predicted, color='blue',label = 'Predicted IBM Stock Price')\n",
        "    plt.title('IBM Stock Price Prediction')\n",
        "    plt.xlabel('Time')\n",
        "    plt.ylabel('IBM Stock Price')\n",
        "    plt.legend()\n",
        "    plt.show()\n",
        "\n",
        "def return_rmse(test,predicted):\n",
        "    rmse = math.sqrt(mean_squared_error(test, predicted))\n",
        "    print(\"The root mean squared error is {}.\".format(rmse))"
      ],
      "execution_count": null,
      "outputs": []
    },
    {
      "cell_type": "code",
      "metadata": {
        "colab": {
          "base_uri": "https://localhost:8080/"
        },
        "id": "bhakoi8rJ2pQ",
        "outputId": "4c983669-cd5a-46b1-9bc6-694e86ec5b94"
      },
      "source": [
        "from google.colab import drive\n",
        "drive.mount(\"/content/gdrive\")"
      ],
      "execution_count": null,
      "outputs": [
        {
          "output_type": "stream",
          "text": [
            "Drive already mounted at /content/gdrive; to attempt to forcibly remount, call drive.mount(\"/content/gdrive\", force_remount=True).\n"
          ],
          "name": "stdout"
        }
      ]
    },
    {
      "cell_type": "code",
      "metadata": {
        "colab": {
          "base_uri": "https://localhost:8080/",
          "height": 204
        },
        "id": "-uXSZOplJ-Jl",
        "outputId": "ef34f199-bbd0-4045-cd89-1bc7f2833705"
      },
      "source": [
        "import pandas as pd\n",
        "dataset = pd.read_csv('/content/gdrive/My Drive/IBM.csv')#, index_col='Date', parse_dates=['Date']) \n",
        "dataset.head()\n",
        "\n",
        "# USE THE FOLLOWING COMMAND TO GET THE 'DATA' INSTEAD OF 'NUMBERS' ON X-AXIS ON PLOT.\n",
        "\n",
        "#import pandas as pd\n",
        "#dataset = pd.read_csv('/content/gdrive/My Drive/IBM.csv'), index_col='Date', parse_dates=['Date']) \n",
        "#dataset.head()"
      ],
      "execution_count": null,
      "outputs": [
        {
          "output_type": "execute_result",
          "data": {
            "text/html": [
              "<div>\n",
              "<style scoped>\n",
              "    .dataframe tbody tr th:only-of-type {\n",
              "        vertical-align: middle;\n",
              "    }\n",
              "\n",
              "    .dataframe tbody tr th {\n",
              "        vertical-align: top;\n",
              "    }\n",
              "\n",
              "    .dataframe thead th {\n",
              "        text-align: right;\n",
              "    }\n",
              "</style>\n",
              "<table border=\"1\" class=\"dataframe\">\n",
              "  <thead>\n",
              "    <tr style=\"text-align: right;\">\n",
              "      <th></th>\n",
              "      <th>Date</th>\n",
              "      <th>Open</th>\n",
              "      <th>High</th>\n",
              "      <th>Low</th>\n",
              "      <th>Close</th>\n",
              "      <th>Volume</th>\n",
              "      <th>Name</th>\n",
              "    </tr>\n",
              "  </thead>\n",
              "  <tbody>\n",
              "    <tr>\n",
              "      <th>0</th>\n",
              "      <td>2006-01-03</td>\n",
              "      <td>82.45</td>\n",
              "      <td>82.55</td>\n",
              "      <td>80.81</td>\n",
              "      <td>82.06</td>\n",
              "      <td>11715200</td>\n",
              "      <td>IBM</td>\n",
              "    </tr>\n",
              "    <tr>\n",
              "      <th>1</th>\n",
              "      <td>2006-01-04</td>\n",
              "      <td>82.20</td>\n",
              "      <td>82.50</td>\n",
              "      <td>81.33</td>\n",
              "      <td>81.95</td>\n",
              "      <td>9840600</td>\n",
              "      <td>IBM</td>\n",
              "    </tr>\n",
              "    <tr>\n",
              "      <th>2</th>\n",
              "      <td>2006-01-05</td>\n",
              "      <td>81.40</td>\n",
              "      <td>82.90</td>\n",
              "      <td>81.00</td>\n",
              "      <td>82.50</td>\n",
              "      <td>7213500</td>\n",
              "      <td>IBM</td>\n",
              "    </tr>\n",
              "    <tr>\n",
              "      <th>3</th>\n",
              "      <td>2006-01-06</td>\n",
              "      <td>83.95</td>\n",
              "      <td>85.03</td>\n",
              "      <td>83.41</td>\n",
              "      <td>84.95</td>\n",
              "      <td>8197400</td>\n",
              "      <td>IBM</td>\n",
              "    </tr>\n",
              "    <tr>\n",
              "      <th>4</th>\n",
              "      <td>2006-01-09</td>\n",
              "      <td>84.10</td>\n",
              "      <td>84.25</td>\n",
              "      <td>83.38</td>\n",
              "      <td>83.73</td>\n",
              "      <td>6858200</td>\n",
              "      <td>IBM</td>\n",
              "    </tr>\n",
              "  </tbody>\n",
              "</table>\n",
              "</div>"
            ],
            "text/plain": [
              "         Date   Open   High    Low  Close    Volume Name\n",
              "0  2006-01-03  82.45  82.55  80.81  82.06  11715200  IBM\n",
              "1  2006-01-04  82.20  82.50  81.33  81.95   9840600  IBM\n",
              "2  2006-01-05  81.40  82.90  81.00  82.50   7213500  IBM\n",
              "3  2006-01-06  83.95  85.03  83.41  84.95   8197400  IBM\n",
              "4  2006-01-09  84.10  84.25  83.38  83.73   6858200  IBM"
            ]
          },
          "metadata": {
            "tags": []
          },
          "execution_count": 48
        }
      ]
    },
    {
      "cell_type": "code",
      "metadata": {
        "id": "BtujEd63J-K-",
        "colab": {
          "base_uri": "https://localhost:8080/"
        },
        "outputId": "c6a55e06-b593-4692-a9c6-2fe52e48e404"
      },
      "source": [
        "#Getting \"High\" attribute\n",
        "df2 = dataset['High']\n",
        "df2.head"
      ],
      "execution_count": null,
      "outputs": [
        {
          "output_type": "execute_result",
          "data": {
            "text/plain": [
              "<bound method NDFrame.head of 0        82.55\n",
              "1        82.50\n",
              "2        82.90\n",
              "3        85.03\n",
              "4        84.25\n",
              "         ...  \n",
              "3015    153.00\n",
              "3016    153.86\n",
              "3017    153.18\n",
              "3018    154.12\n",
              "3019    154.72\n",
              "Name: High, Length: 3020, dtype: float64>"
            ]
          },
          "metadata": {
            "tags": []
          },
          "execution_count": 49
        }
      ]
    },
    {
      "cell_type": "code",
      "metadata": {
        "colab": {
          "base_uri": "https://localhost:8080/"
        },
        "id": "ZHxJTnTFTA9J",
        "outputId": "2efa9441-2d49-44a0-945d-18dfe343ceac"
      },
      "source": [
        "#In the above, no index is present. The data is presented as Date, values\n",
        "#We need the index number for the mc learning model \n",
        "#Therefore, use 'reset_index' method to get the index.\n",
        "\n",
        "#get attribute 'Close'\n",
        "df1 = dataset.reset_index()['High']\n",
        "df1"
      ],
      "execution_count": null,
      "outputs": [
        {
          "output_type": "execute_result",
          "data": {
            "text/plain": [
              "0        82.55\n",
              "1        82.50\n",
              "2        82.90\n",
              "3        85.03\n",
              "4        84.25\n",
              "         ...  \n",
              "3015    153.00\n",
              "3016    153.86\n",
              "3017    153.18\n",
              "3018    154.12\n",
              "3019    154.72\n",
              "Name: High, Length: 3020, dtype: float64"
            ]
          },
          "metadata": {
            "tags": []
          },
          "execution_count": 50
        }
      ]
    },
    {
      "cell_type": "code",
      "metadata": {
        "colab": {
          "base_uri": "https://localhost:8080/",
          "height": 283
        },
        "id": "IILD-UZWUfPS",
        "outputId": "0cd10f97-8348-4fd8-a3a5-f528f68acf0b"
      },
      "source": [
        "#PLot data\n",
        "#..........Method 2\n",
        "dataset['High'].plot(figsize=(16,4) )\n",
        "plt.show()"
      ],
      "execution_count": null,
      "outputs": [
        {
          "output_type": "display_data",
          "data": {
            "image/png": "[encoded data removed]",
            "text/plain": [
              "<Figure size 1152x288 with 1 Axes>"
            ]
          },
          "metadata": {
            "tags": []
          }
        }
      ]
    },
    {
      "cell_type": "code",
      "metadata": {
        "colab": {
          "base_uri": "https://localhost:8080/"
        },
        "id": "ISamlRlyW9nD",
        "outputId": "a790b33a-cb32-4ab7-8217-a1d886a33132"
      },
      "source": [
        "# Reshape the dataset \n",
        "df1 = np.array(df1).reshape(-1 , 1)\n",
        "df1[:5]"
      ],
      "execution_count": null,
      "outputs": [
        {
          "output_type": "execute_result",
          "data": {
            "text/plain": [
              "array([[82.55],\n",
              "       [82.5 ],\n",
              "       [82.9 ],\n",
              "       [85.03],\n",
              "       [84.25]])"
            ]
          },
          "metadata": {
            "tags": []
          },
          "execution_count": 53
        }
      ]
    },
    {
      "cell_type": "code",
      "metadata": {
        "id": "9alO8WaGZBZa"
      },
      "source": [
        "# split the data into train and test data\n",
        "trainSize = int(len(df1)*0.67)\n",
        "testSize = len(df1) - trainSize\n",
        "trainData , testData = df1[0:trainSize , : ] , df1[trainSize : len(df1),:1]\n",
        "\n",
        "#df1[a :b , c: d] format is present because dataset has rows and column."
      ],
      "execution_count": null,
      "outputs": []
    },
    {
      "cell_type": "code",
      "metadata": {
        "id": "ucgwR-wLZO_U"
      },
      "source": [
        "# Scaling the data\n",
        "# Line 1 : Def Scaling to range (0,1)\n",
        "# Line 2 : Scaling\n",
        "scaler = MinMaxScaler(feature_range=(0,1))\n",
        "trainData = scaler.fit_transform(trainData)"
      ],
      "execution_count": null,
      "outputs": []
    },
    {
      "cell_type": "code",
      "metadata": {
        "id": "eVos9jG7dMwD",
        "colab": {
          "base_uri": "https://localhost:8080/"
        },
        "outputId": "96f0401b-b97b-4ef8-a626-309befa332fc"
      },
      "source": [
        "trainData.shape"
      ],
      "execution_count": null,
      "outputs": [
        {
          "output_type": "execute_result",
          "data": {
            "text/plain": [
              "(2023, 1)"
            ]
          },
          "metadata": {
            "tags": []
          },
          "execution_count": 56
        }
      ]
    },
    {
      "cell_type": "code",
      "metadata": {
        "id": "y1I50HNTZ5UZ"
      },
      "source": [
        "# Now create the xTrain and yTrain from the trainData(i.e training data)\n",
        "\n",
        "xTrain, yTrain = [] , []\n",
        "\n",
        "for i in range(60, 2023):\n",
        "    xTrain.append(trainData[i-60 : i , 0])\n",
        "    yTrain.append(trainData[i,0])\n",
        "\n",
        "xTrain, yTrain = np.array(xTrain) , np.array(yTrain)"
      ],
      "execution_count": null,
      "outputs": []
    },
    {
      "cell_type": "code",
      "metadata": {
        "colab": {
          "base_uri": "https://localhost:8080/"
        },
        "id": "HP9b-b01c5sX",
        "outputId": "a4301381-bc2e-4008-fcd5-87ac8bbaad10"
      },
      "source": [
        "xTrain.shape"
      ],
      "execution_count": null,
      "outputs": [
        {
          "output_type": "execute_result",
          "data": {
            "text/plain": [
              "(1963, 60)"
            ]
          },
          "metadata": {
            "tags": []
          },
          "execution_count": 58
        }
      ]
    },
    {
      "cell_type": "code",
      "metadata": {
        "id": "FE8Xevk2dVQS"
      },
      "source": [
        "#Reshaping xTrain for efficient modelling\n",
        "xTrain = np.reshape(xTrain , (xTrain.shape[0] , xTrain.shape[1] , 1))"
      ],
      "execution_count": null,
      "outputs": []
    },
    {
      "cell_type": "code",
      "metadata": {
        "colab": {
          "base_uri": "https://localhost:8080/"
        },
        "id": "sVrZtj-8dr8s",
        "outputId": "4751c665-b033-4d88-fff9-4ae002024913"
      },
      "source": [
        "xTrain.shape"
      ],
      "execution_count": null,
      "outputs": [
        {
          "output_type": "execute_result",
          "data": {
            "text/plain": [
              "(1963, 60, 1)"
            ]
          },
          "metadata": {
            "tags": []
          },
          "execution_count": 60
        }
      ]
    },
    {
      "cell_type": "markdown",
      "metadata": {
        "id": "ke29fj7-d7_9"
      },
      "source": [
        "### **LSTM**"
      ]
    },
    {
      "cell_type": "code",
      "metadata": {
        "id": "IG3l8ZSaM6Ni"
      },
      "source": [
        "# LSTM Architecture\n",
        "model = Sequential()\n",
        "\n",
        "#first layer with Drouput Regularsation\n",
        "model.add(LSTM(units=50 , return_sequences=True , input_shape = (xTrain.shape[1], 1)))\n",
        "model.add(Dropout(0.2))\n",
        "\n",
        "#Second LSTM layer\n",
        "model.add(LSTM(units=50 , return_sequences=True))\n",
        "model.add(Dropout(0.2))\n",
        "\n",
        "#Third LSTM layer\n",
        "model.add(LSTM(units=50 , return_sequences=True))\n",
        "model.add(Dropout(0.2))\n",
        "\n",
        "#Fourth LSTM layer\n",
        "model.add(LSTM(units=50))\n",
        "model.add(Dropout(0.2))\n",
        "\n",
        "#The output layer\n",
        "model.add(Dense(units=1))"
      ],
      "execution_count": null,
      "outputs": []
    },
    {
      "cell_type": "code",
      "metadata": {
        "id": "B3JvhNxbNTd3"
      },
      "source": [
        "#Compiling the model\n",
        "model.compile(optimizer = 'rmsprop' , loss='mean_squared_error')\n"
      ],
      "execution_count": null,
      "outputs": []
    },
    {
      "cell_type": "code",
      "metadata": {
        "colab": {
          "base_uri": "https://localhost:8080/"
        },
        "id": "p9VnUVOZOAr1",
        "outputId": "9638bc69-b5c9-44a3-99b4-4b87c20b0a76"
      },
      "source": [
        "xTrain.shape"
      ],
      "execution_count": null,
      "outputs": [
        {
          "output_type": "execute_result",
          "data": {
            "text/plain": [
              "(1963, 60, 1)"
            ]
          },
          "metadata": {
            "tags": []
          },
          "execution_count": 63
        }
      ]
    },
    {
      "cell_type": "code",
      "metadata": {
        "colab": {
          "base_uri": "https://localhost:8080/"
        },
        "id": "c5ukiMBvNWPo",
        "outputId": "8547a3f9-0929-4fb6-fadb-c0b10c932e56"
      },
      "source": [
        "#Fitting to the traing set\n",
        "model.fit(xTrain , yTrain , epochs = 50 , batch_size = 32)"
      ],
      "execution_count": null,
      "outputs": [
        {
          "output_type": "stream",
          "text": [
            "Epoch 1/50\n",
            "62/62 [==============================] - 10s 72ms/step - loss: 0.0621\n",
            "Epoch 2/50\n",
            "62/62 [==============================] - 5s 78ms/step - loss: 0.0131\n",
            "Epoch 3/50\n",
            "62/62 [==============================] - 5s 78ms/step - loss: 0.0105\n",
            "Epoch 4/50\n",
            "62/62 [==============================] - 5s 78ms/step - loss: 0.0086\n",
            "Epoch 5/50\n",
            "62/62 [==============================] - 5s 78ms/step - loss: 0.0066\n",
            "Epoch 6/50\n",
            "62/62 [==============================] - 5s 77ms/step - loss: 0.0056\n",
            "Epoch 7/50\n",
            "62/62 [==============================] - 5s 78ms/step - loss: 0.0060\n",
            "Epoch 8/50\n",
            "62/62 [==============================] - 5s 77ms/step - loss: 0.0051\n",
            "Epoch 9/50\n",
            "62/62 [==============================] - 5s 78ms/step - loss: 0.0050\n",
            "Epoch 10/50\n",
            "62/62 [==============================] - 5s 79ms/step - loss: 0.0050\n",
            "Epoch 11/50\n",
            "62/62 [==============================] - 5s 78ms/step - loss: 0.0045\n",
            "Epoch 12/50\n",
            "62/62 [==============================] - 5s 77ms/step - loss: 0.0041\n",
            "Epoch 13/50\n",
            "62/62 [==============================] - 5s 78ms/step - loss: 0.0034\n",
            "Epoch 14/50\n",
            "62/62 [==============================] - 5s 78ms/step - loss: 0.0038\n",
            "Epoch 15/50\n",
            "62/62 [==============================] - 5s 77ms/step - loss: 0.0036\n",
            "Epoch 16/50\n",
            "62/62 [==============================] - 5s 78ms/step - loss: 0.0036\n",
            "Epoch 17/50\n",
            "62/62 [==============================] - 5s 78ms/step - loss: 0.0033\n",
            "Epoch 18/50\n",
            "62/62 [==============================] - 5s 77ms/step - loss: 0.0040\n",
            "Epoch 19/50\n",
            "62/62 [==============================] - 5s 78ms/step - loss: 0.0027\n",
            "Epoch 20/50\n",
            "62/62 [==============================] - 5s 78ms/step - loss: 0.0029\n",
            "Epoch 21/50\n",
            "62/62 [==============================] - 5s 77ms/step - loss: 0.0025\n",
            "Epoch 22/50\n",
            "62/62 [==============================] - 5s 78ms/step - loss: 0.0027\n",
            "Epoch 23/50\n",
            "62/62 [==============================] - 5s 78ms/step - loss: 0.0025\n",
            "Epoch 24/50\n",
            "62/62 [==============================] - 5s 77ms/step - loss: 0.0030\n",
            "Epoch 25/50\n",
            "62/62 [==============================] - 5s 78ms/step - loss: 0.0028\n",
            "Epoch 26/50\n",
            "62/62 [==============================] - 5s 79ms/step - loss: 0.0027\n",
            "Epoch 27/50\n",
            "62/62 [==============================] - 5s 79ms/step - loss: 0.0024\n",
            "Epoch 28/50\n",
            "62/62 [==============================] - 5s 79ms/step - loss: 0.0023\n",
            "Epoch 29/50\n",
            "62/62 [==============================] - 5s 78ms/step - loss: 0.0025\n",
            "Epoch 30/50\n",
            "62/62 [==============================] - 5s 78ms/step - loss: 0.0023\n",
            "Epoch 31/50\n",
            "62/62 [==============================] - 5s 78ms/step - loss: 0.0023\n",
            "Epoch 32/50\n",
            "62/62 [==============================] - 5s 78ms/step - loss: 0.0021\n",
            "Epoch 33/50\n",
            "62/62 [==============================] - 5s 78ms/step - loss: 0.0020\n",
            "Epoch 34/50\n",
            "62/62 [==============================] - 5s 78ms/step - loss: 0.0021\n",
            "Epoch 35/50\n",
            "62/62 [==============================] - 5s 79ms/step - loss: 0.0021\n",
            "Epoch 36/50\n",
            "62/62 [==============================] - 5s 79ms/step - loss: 0.0021\n",
            "Epoch 37/50\n",
            "62/62 [==============================] - 5s 78ms/step - loss: 0.0021\n",
            "Epoch 38/50\n",
            "62/62 [==============================] - 5s 78ms/step - loss: 0.0020\n",
            "Epoch 39/50\n",
            "62/62 [==============================] - 5s 78ms/step - loss: 0.0019\n",
            "Epoch 40/50\n",
            "62/62 [==============================] - 5s 78ms/step - loss: 0.0021\n",
            "Epoch 41/50\n",
            "62/62 [==============================] - 5s 79ms/step - loss: 0.0018\n",
            "Epoch 42/50\n",
            "62/62 [==============================] - 5s 78ms/step - loss: 0.0019\n",
            "Epoch 43/50\n",
            "62/62 [==============================] - 5s 77ms/step - loss: 0.0018\n",
            "Epoch 44/50\n",
            "62/62 [==============================] - 5s 79ms/step - loss: 0.0020\n",
            "Epoch 45/50\n",
            "62/62 [==============================] - 5s 78ms/step - loss: 0.0018\n",
            "Epoch 46/50\n",
            "62/62 [==============================] - 5s 78ms/step - loss: 0.0017\n",
            "Epoch 47/50\n",
            "62/62 [==============================] - 5s 78ms/step - loss: 0.0017\n",
            "Epoch 48/50\n",
            "62/62 [==============================] - 5s 78ms/step - loss: 0.0017\n",
            "Epoch 49/50\n",
            "62/62 [==============================] - 5s 78ms/step - loss: 0.0018\n",
            "Epoch 50/50\n",
            "62/62 [==============================] - 5s 79ms/step - loss: 0.0017\n"
          ],
          "name": "stdout"
        },
        {
          "output_type": "execute_result",
          "data": {
            "text/plain": [
              "<tensorflow.python.keras.callbacks.History at 0x7fb42e252950>"
            ]
          },
          "metadata": {
            "tags": []
          },
          "execution_count": 64
        }
      ]
    },
    {
      "cell_type": "code",
      "metadata": {
        "colab": {
          "base_uri": "https://localhost:8080/"
        },
        "id": "Vi5OFi6VqBTC",
        "outputId": "56747495-dced-4904-e635-c585e258e781"
      },
      "source": [
        "#Get test set ready as similar to traing set\n",
        "#create a whole dataset\n",
        "dataset_total = (dataset[\"High\"])\n",
        "dataset_total.shape"
      ],
      "execution_count": null,
      "outputs": [
        {
          "output_type": "execute_result",
          "data": {
            "text/plain": [
              "(3020,)"
            ]
          },
          "metadata": {
            "tags": []
          },
          "execution_count": 65
        }
      ]
    },
    {
      "cell_type": "code",
      "metadata": {
        "id": "6TwO4qSNqCf4",
        "colab": {
          "base_uri": "https://localhost:8080/"
        },
        "outputId": "0774df2e-72ba-4e89-e8f3-ef91e36e5e22"
      },
      "source": [
        "# Now to get the test set ready in a similar way as the training set.\n",
        "# The following has been done so forst 60 entires of test set have 60 previous values which is impossible to get unless we take the whole \n",
        "# 'High' attribute data for processing\n",
        "dataset_total = (dataset[\"High\"])\n",
        "inputs = dataset_total[len(dataset_total)-len(testData) - 60:].values\n",
        "inputs = inputs.reshape(-1,1)\n",
        "inputs = scaler.fit_transform(inputs)\n",
        "inputs[:5]\n"
      ],
      "execution_count": null,
      "outputs": [
        {
          "output_type": "execute_result",
          "data": {
            "text/plain": [
              "array([[0.69252043],\n",
              "       [0.70282841],\n",
              "       [0.70810811],\n",
              "       [0.73199246],\n",
              "       [0.74720302]])"
            ]
          },
          "metadata": {
            "tags": []
          },
          "execution_count": 66
        }
      ]
    },
    {
      "cell_type": "code",
      "metadata": {
        "colab": {
          "base_uri": "https://localhost:8080/"
        },
        "id": "w_0ScHo0sVyV",
        "outputId": "07ac1b00-82fa-4952-d06d-a7af36181984"
      },
      "source": [
        "inputs.shape"
      ],
      "execution_count": null,
      "outputs": [
        {
          "output_type": "execute_result",
          "data": {
            "text/plain": [
              "(1057, 1)"
            ]
          },
          "metadata": {
            "tags": []
          },
          "execution_count": 67
        }
      ]
    },
    {
      "cell_type": "code",
      "metadata": {
        "id": "GkDZJXbrqIQz"
      },
      "source": [
        "# Create xTest and yTest from testData(i.e. testing data)\n",
        "# 60 timestep and 1 output\n",
        "xTest = []\n",
        "\n",
        "for i in range(60, 1057):\n",
        "    xTest.append(inputs[i-60 : i , 0])\n",
        "  \n",
        "\n",
        "xTest = np.array(xTest) \n",
        "xTest = np.reshape(xTest, (xTest.shape[0],xTest.shape[1],1))\n",
        "predicted_stock_price = model.predict(xTest)\n",
        "predicted_stock_price2 = scaler.inverse_transform(predicted_stock_price)\n",
        "#testData2 = scaler.inverse_transform(testData)"
      ],
      "execution_count": null,
      "outputs": []
    },
    {
      "cell_type": "code",
      "metadata": {
        "colab": {
          "base_uri": "https://localhost:8080/"
        },
        "id": "DCcfUpJd0155",
        "outputId": "d21f6c9f-3c6c-411d-fed0-b6be9de5e025"
      },
      "source": [
        "inputs.shape"
      ],
      "execution_count": null,
      "outputs": [
        {
          "output_type": "execute_result",
          "data": {
            "text/plain": [
              "(1057, 1)"
            ]
          },
          "metadata": {
            "tags": []
          },
          "execution_count": 69
        }
      ]
    },
    {
      "cell_type": "code",
      "metadata": {
        "colab": {
          "base_uri": "https://localhost:8080/",
          "height": 282
        },
        "id": "ikp3jkQmreAH",
        "outputId": "7688e7ef-141a-4c16-e725-020011a7d87e"
      },
      "source": [
        "plt.plot(testData, color='red',label='Real IBM Stock Price')\n",
        "plt.plot(predicted_stock_price2, color='blue',label='Predicted IBM Stock Price')\n",
        "plt.xlabel = 'Time'\n",
        "plt.ylabel = 'IBM Stock price'\n",
        "plt.legend()\n",
        "plt.show()"
      ],
      "execution_count": null,
      "outputs": [
        {
          "output_type": "display_data",
          "data": {
            "image/png": "[encoded data removed]",
            "text/plain": [
              "<Figure size 432x288 with 1 Axes>"
            ]
          },
          "metadata": {
            "tags": []
          }
        }
      ]
    },
    {
      "cell_type": "code",
      "metadata": {
        "colab": {
          "base_uri": "https://localhost:8080/"
        },
        "id": "5yjlZP6rw9pz",
        "outputId": "747ff414-f173-43bc-88fb-49df6a161069"
      },
      "source": [
        "rmse = math.sqrt(mean_squared_error(testData, predicted_stock_price2))\n",
        "print(\"The root mean squared error is {}.\".format(rmse))"
      ],
      "execution_count": null,
      "outputs": [
        {
          "output_type": "stream",
          "text": [
            "The root mean squared error is 4.5562793360766936.\n"
          ],
          "name": "stdout"
        }
      ]
    }
  ]
}
